{
 "cells": [
  {
   "cell_type": "code",
   "execution_count": 2,
   "metadata": {
    "collapsed": true
   },
   "outputs": [
    {
     "name": "stdout",
     "output_type": "stream",
     "text": [
      "/usr/lib/python3/dist-packages/secretstorage/dhcrypto.py:15: CryptographyDeprecationWarning: int_from_bytes is deprecated, use int.from_bytes instead\r\n",
      "  from cryptography.utils import int_from_bytes\r\n",
      "/usr/lib/python3/dist-packages/secretstorage/util.py:19: CryptographyDeprecationWarning: int_from_bytes is deprecated, use int.from_bytes instead\r\n",
      "  from cryptography.utils import int_from_bytes\r\n",
      "Defaulting to user installation because normal site-packages is not writeable\r\n",
      "Requirement already satisfied: pandas-profiling in /home/alimesut/.local/lib/python3.8/site-packages (3.1.0)\r\n",
      "Requirement already satisfied: matplotlib>=3.2.0 in /home/alimesut/.local/lib/python3.8/site-packages (from pandas-profiling) (3.5.1)\r\n",
      "Requirement already satisfied: visions[type_image_path]==0.7.4 in /home/alimesut/.local/lib/python3.8/site-packages (from pandas-profiling) (0.7.4)\r\n",
      "Requirement already satisfied: joblib~=1.0.1 in /home/alimesut/.local/lib/python3.8/site-packages (from pandas-profiling) (1.0.1)\r\n",
      "Requirement already satisfied: scipy>=1.4.1 in /home/alimesut/.local/lib/python3.8/site-packages (from pandas-profiling) (1.8.0)\r\n",
      "Requirement already satisfied: phik>=0.11.1 in /home/alimesut/.local/lib/python3.8/site-packages (from pandas-profiling) (0.12.0)\r\n",
      "Requirement already satisfied: htmlmin>=0.1.12 in /home/alimesut/.local/lib/python3.8/site-packages (from pandas-profiling) (0.1.12)\r\n",
      "Requirement already satisfied: markupsafe~=2.0.1 in /home/alimesut/.local/lib/python3.8/site-packages (from pandas-profiling) (2.0.1)\r\n",
      "Requirement already satisfied: requests>=2.24.0 in /home/alimesut/.local/lib/python3.8/site-packages (from pandas-profiling) (2.27.1)\r\n",
      "Requirement already satisfied: PyYAML>=5.0.0 in /usr/lib/python3/dist-packages (from pandas-profiling) (5.3.1)\r\n",
      "Requirement already satisfied: multimethod>=1.4 in /home/alimesut/.local/lib/python3.8/site-packages (from pandas-profiling) (1.7)\r\n",
      "Requirement already satisfied: pandas!=1.0.0,!=1.0.1,!=1.0.2,!=1.1.0,>=0.25.3 in /usr/local/lib/python3.8/dist-packages (from pandas-profiling) (1.2.2)\r\n",
      "Requirement already satisfied: seaborn>=0.10.1 in /home/alimesut/.local/lib/python3.8/site-packages (from pandas-profiling) (0.11.2)\r\n",
      "Requirement already satisfied: pydantic>=1.8.1 in /home/alimesut/.local/lib/python3.8/site-packages (from pandas-profiling) (1.9.0)\r\n",
      "Requirement already satisfied: missingno>=0.4.2 in /home/alimesut/.local/lib/python3.8/site-packages (from pandas-profiling) (0.5.1)\r\n",
      "Requirement already satisfied: tqdm>=4.48.2 in /home/alimesut/.local/lib/python3.8/site-packages (from pandas-profiling) (4.63.0)\r\n",
      "Requirement already satisfied: jinja2>=2.11.1 in /usr/local/lib/python3.8/dist-packages (from pandas-profiling) (2.11.3)\r\n",
      "Requirement already satisfied: numpy>=1.16.0 in /usr/local/lib/python3.8/dist-packages (from pandas-profiling) (1.20.1)\r\n",
      "Requirement already satisfied: tangled-up-in-unicode==0.1.0 in /home/alimesut/.local/lib/python3.8/site-packages (from pandas-profiling) (0.1.0)\r\n",
      "Requirement already satisfied: networkx>=2.4 in /home/alimesut/.local/lib/python3.8/site-packages (from visions[type_image_path]==0.7.4->pandas-profiling) (2.7.1)\r\n",
      "Requirement already satisfied: attrs>=19.3.0 in /usr/local/lib/python3.8/dist-packages (from visions[type_image_path]==0.7.4->pandas-profiling) (20.3.0)\r\n",
      "Requirement already satisfied: imagehash in /home/alimesut/.local/lib/python3.8/site-packages (from visions[type_image_path]==0.7.4->pandas-profiling) (4.2.1)\r\n",
      "Requirement already satisfied: Pillow in /usr/lib/python3/dist-packages (from visions[type_image_path]==0.7.4->pandas-profiling) (7.0.0)\r\n",
      "Requirement already satisfied: fonttools>=4.22.0 in /home/alimesut/.local/lib/python3.8/site-packages (from matplotlib>=3.2.0->pandas-profiling) (4.30.0)\r\n",
      "Requirement already satisfied: packaging>=20.0 in /usr/local/lib/python3.8/dist-packages (from matplotlib>=3.2.0->pandas-profiling) (20.9)\r\n",
      "Requirement already satisfied: pyparsing>=2.2.1 in /usr/local/lib/python3.8/dist-packages (from matplotlib>=3.2.0->pandas-profiling) (2.4.7)\r\n",
      "Requirement already satisfied: kiwisolver>=1.0.1 in /home/alimesut/.local/lib/python3.8/site-packages (from matplotlib>=3.2.0->pandas-profiling) (1.3.2)\r\n",
      "Requirement already satisfied: python-dateutil>=2.7 in /usr/lib/python3/dist-packages (from matplotlib>=3.2.0->pandas-profiling) (2.7.3)\r\n",
      "Requirement already satisfied: cycler>=0.10 in /home/alimesut/.local/lib/python3.8/site-packages (from matplotlib>=3.2.0->pandas-profiling) (0.11.0)\r\n",
      "Requirement already satisfied: pytz>=2017.3 in /usr/lib/python3/dist-packages (from pandas!=1.0.0,!=1.0.1,!=1.0.2,!=1.1.0,>=0.25.3->pandas-profiling) (2019.3)\r\n",
      "Requirement already satisfied: typing-extensions>=3.7.4.3 in /usr/local/lib/python3.8/dist-packages (from pydantic>=1.8.1->pandas-profiling) (3.7.4.3)\r\n",
      "Requirement already satisfied: idna<4,>=2.5 in /usr/lib/python3/dist-packages (from requests>=2.24.0->pandas-profiling) (2.8)\r\n",
      "Requirement already satisfied: certifi>=2017.4.17 in /usr/lib/python3/dist-packages (from requests>=2.24.0->pandas-profiling) (2019.11.28)\r\n",
      "Requirement already satisfied: charset-normalizer~=2.0.0 in /home/alimesut/.local/lib/python3.8/site-packages (from requests>=2.24.0->pandas-profiling) (2.0.12)\r\n",
      "Requirement already satisfied: urllib3<1.27,>=1.21.1 in /usr/lib/python3/dist-packages (from requests>=2.24.0->pandas-profiling) (1.25.8)\r\n",
      "Requirement already satisfied: six in /usr/lib/python3/dist-packages (from imagehash->visions[type_image_path]==0.7.4->pandas-profiling) (1.14.0)\r\n",
      "Requirement already satisfied: PyWavelets in /home/alimesut/.local/lib/python3.8/site-packages (from imagehash->visions[type_image_path]==0.7.4->pandas-profiling) (1.3.0)\r\n",
      "\u001B[33mWARNING: You are using pip version 21.0.1; however, version 22.0.4 is available.\r\n",
      "You should consider upgrading via the '/usr/bin/python3 -m pip install --upgrade pip' command.\u001B[0m\r\n"
     ]
    }
   ],
   "source": [
    "!pip install pandas-profiling"
   ]
  },
  {
   "cell_type": "markdown",
   "metadata": {
    "pycharm": {
     "name": "#%% md\n"
    }
   },
   "source": [
    "## UCI Bank Marketing Veri Seti Profillemesi"
   ]
  },
  {
   "cell_type": "code",
   "execution_count": 1,
   "metadata": {
    "pycharm": {
     "name": "#%%\n"
    }
   },
   "outputs": [
    {
     "data": {
      "text/plain": "Summarize dataset:   0%|          | 0/5 [00:00<?, ?it/s]",
      "application/vnd.jupyter.widget-view+json": {
       "version_major": 2,
       "version_minor": 0,
       "model_id": "3d9fda3c7e6443e48f8912de2341eaeb"
      }
     },
     "metadata": {},
     "output_type": "display_data"
    },
    {
     "data": {
      "text/plain": "Generate report structure:   0%|          | 0/1 [00:00<?, ?it/s]",
      "application/vnd.jupyter.widget-view+json": {
       "version_major": 2,
       "version_minor": 0,
       "model_id": "90d85d30d43a440eb2434896e4f7fa53"
      }
     },
     "metadata": {},
     "output_type": "display_data"
    },
    {
     "data": {
      "text/plain": "Render HTML:   0%|          | 0/1 [00:00<?, ?it/s]",
      "application/vnd.jupyter.widget-view+json": {
       "version_major": 2,
       "version_minor": 0,
       "model_id": "8d9e047cdb504db1bac3dd3db70f0427"
      }
     },
     "metadata": {},
     "output_type": "display_data"
    },
    {
     "data": {
      "text/plain": "Export report to file:   0%|          | 0/1 [00:00<?, ?it/s]",
      "application/vnd.jupyter.widget-view+json": {
       "version_major": 2,
       "version_minor": 0,
       "model_id": "30629dd095394bb491f5069da3456545"
      }
     },
     "metadata": {},
     "output_type": "display_data"
    }
   ],
   "source": [
    "from pathlib import Path\n",
    "import pandas as pd\n",
    "\n",
    "from pandas_profiling import ProfileReport\n",
    "from pandas_profiling.utils.cache import cache_zipped_file\n",
    "\n",
    "if __name__ == \"__main__\":\n",
    "    file_name = cache_zipped_file(\n",
    "        \"bank-full.csv\",\n",
    "        \"https://archive.ics.uci.edu/ml/machine-learning-databases/00222/bank.zip\",\n",
    "    )\n",
    "\n",
    "    # Download the UCI Bank Marketing Dataset\n",
    "    df = pd.read_csv(file_name, sep=\";\")\n",
    "\n",
    "    profile = ProfileReport(\n",
    "        df, title=\"Profile Report of the UCI Bank Marketing Dataset\", explorative=True\n",
    "    )\n",
    "    profile.to_file(Path(\"uci_bank_marketing_report.html\"))"
   ]
  },
  {
   "cell_type": "markdown",
   "metadata": {},
   "source": []
  },
  {
   "cell_type": "code",
   "execution_count": 9,
   "metadata": {
    "pycharm": {
     "name": "#%%\n"
    }
   },
   "outputs": [
    {
     "data": {
      "application/vnd.jupyter.widget-view+json": {
       "model_id": "56a76b6538234bcab40c1900711f0a17",
       "version_major": 2,
       "version_minor": 0
      },
      "text/plain": [
       "Summarize dataset:   0%|          | 0/5 [00:00<?, ?it/s]"
      ]
     },
     "metadata": {},
     "output_type": "display_data"
    },
    {
     "data": {
      "application/vnd.jupyter.widget-view+json": {
       "model_id": "ac4bf26c67354ca5a5de89532d19862a",
       "version_major": 2,
       "version_minor": 0
      },
      "text/plain": [
       "Generate report structure:   0%|          | 0/1 [00:00<?, ?it/s]"
      ]
     },
     "metadata": {},
     "output_type": "display_data"
    },
    {
     "data": {
      "application/vnd.jupyter.widget-view+json": {
       "model_id": "ace3c57e8bd847708277b5bf3d2deadc",
       "version_major": 2,
       "version_minor": 0
      },
      "text/plain": [
       "Render HTML:   0%|          | 0/1 [00:00<?, ?it/s]"
      ]
     },
     "metadata": {},
     "output_type": "display_data"
    },
    {
     "data": {
      "application/vnd.jupyter.widget-view+json": {
       "model_id": "debdba41fc474103b9a98fc09f925c92",
       "version_major": 2,
       "version_minor": 0
      },
      "text/plain": [
       "Export report to file:   0%|          | 0/1 [00:00<?, ?it/s]"
      ]
     },
     "metadata": {},
     "output_type": "display_data"
    }
   ],
   "source": [
    "from pathlib import Path\n",
    "import pandas as pd\n",
    "\n",
    "from pandas_profiling import ProfileReport\n",
    "from pandas_profiling.utils.cache import cache_zipped_file\n",
    "\n",
    "if __name__ == \"__main__\":\n",
    "    file_name = \"nutrients.csv\"\n",
    "\n",
    "    # Download the UCI Bank Marketing Dataset\n",
    "    df = pd.read_csv(file_name, sep=\",\")\n",
    "\n",
    "    profile = ProfileReport(\n",
    "        df, title=\"Profile Report of the UCI Bank Marketing Dataset\", explorative=True\n",
    "    )\n",
    "    profile.to_file(Path(\"nutrients_report.html\"))"
   ]
  },
  {
   "cell_type": "markdown",
   "metadata": {},
   "source": []
  }
 ],
 "metadata": {
  "kernelspec": {
   "display_name": "Python 3",
   "language": "python",
   "name": "python3"
  },
  "language_info": {
   "codemirror_mode": {
    "name": "ipython",
    "version": 3
   },
   "file_extension": ".py",
   "mimetype": "text/x-python",
   "name": "python",
   "nbconvert_exporter": "python",
   "pygments_lexer": "ipython3",
   "version": "3.8.10"
  }
 },
 "nbformat": 4,
 "nbformat_minor": 1
}